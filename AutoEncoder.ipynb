{
  "nbformat": 4,
  "nbformat_minor": 0,
  "metadata": {
    "colab": {
      "name": "AutoEncoder.ipynb",
      "provenance": []
    },
    "kernelspec": {
      "name": "python3",
      "display_name": "Python 3"
    }
  },
  "cells": [
    {
      "cell_type": "code",
      "metadata": {
        "id": "2GaS6AhjObnk",
        "colab_type": "code",
        "colab": {}
      },
      "source": [
        "import fastai \n",
        "import torch\n",
        "\n",
        "import pandas as pd #to create the required dataframes\n",
        "import seaborn as sns #for plotting\n",
        "import matplotlib.pyplot as plt #for plotting\n",
        "\n",
        "from torch import nn, optim, cuda\n",
        "from torch.utils import data as torch_data\n",
        "from fastai import data_block, basic_train, basic_data, train as tr\n",
        "from fastai import callbacks\n",
        "from fastai.core import ItemBase\n",
        "from ae_models import AE_3D_200 #this is the model that we will be using to compress the given data"
      ],
      "execution_count": 0,
      "outputs": []
    },
    {
      "cell_type": "code",
      "metadata": {
        "id": "c4hkrHU7Ojc1",
        "colab_type": "code",
        "colab": {}
      },
      "source": [
        ""
      ],
      "execution_count": 0,
      "outputs": []
    },
    {
      "cell_type": "code",
      "metadata": {
        "id": "JTNgSSUfOngz",
        "colab_type": "code",
        "colab": {}
      },
      "source": [
        ""
      ],
      "execution_count": 0,
      "outputs": []
    }
  ]
}